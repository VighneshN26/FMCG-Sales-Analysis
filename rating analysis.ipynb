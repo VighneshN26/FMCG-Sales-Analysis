{
 "cells": [
  {
   "cell_type": "markdown",
   "metadata": {},
   "source": [
    "### Rating Analysis\n",
    "The following data contains information about the ranking of smartphone models based on their features like Price, Camera, Selfie, Audio, Display and Battery\n",
    "(The Dataset is scraped from https://www.dxomark.com/smartphones/)\n",
    "\n",
    "Perform an Exploratory Data Analysis for the given dataset to analyse and answer the given questions:\n",
    "1) Which is the most expensive phone?\n",
    "2) Which is the cheapest phone?\n",
    "3) Which phone has the highest camera score?\n",
    "4) Which phone has the lowest camera score?\n",
    "5) Which phone has the highest selfie score?\n",
    "6) Which phone has the lowest selfie score?\n",
    "7) Brand Wise number of models available in the market."
   ]
  },
  {
   "cell_type": "code",
   "execution_count": 1,
   "metadata": {
    "_cell_guid": "b1076dfc-b9ad-4769-8c92-a6c4dae69d19",
    "_uuid": "8f2839f25d086af736a60e9eeb907d3b93b6e0e5"
   },
   "outputs": [],
   "source": [
    "import numpy as np \n",
    "import pandas as pd"
   ]
  },
  {
   "cell_type": "code",
   "execution_count": 2,
   "metadata": {},
   "outputs": [],
   "source": [
    "import numpy as np\n",
    "import pandas as pd\n",
    "import matplotlib.pyplot as plt\n",
    "import seaborn as sns\n"
   ]
  },
  {
   "cell_type": "code",
   "execution_count": 3,
   "metadata": {},
   "outputs": [
    {
     "data": {
      "text/html": [
       "<div>\n",
       "<style scoped>\n",
       "    .dataframe tbody tr th:only-of-type {\n",
       "        vertical-align: middle;\n",
       "    }\n",
       "\n",
       "    .dataframe tbody tr th {\n",
       "        vertical-align: top;\n",
       "    }\n",
       "\n",
       "    .dataframe thead th {\n",
       "        text-align: right;\n",
       "    }\n",
       "</style>\n",
       "<table border=\"1\" class=\"dataframe\">\n",
       "  <thead>\n",
       "    <tr style=\"text-align: right;\">\n",
       "      <th></th>\n",
       "      <th>model</th>\n",
       "      <th>price</th>\n",
       "      <th>launch</th>\n",
       "      <th>camera</th>\n",
       "      <th>selfie</th>\n",
       "      <th>audio</th>\n",
       "      <th>display</th>\n",
       "      <th>battery</th>\n",
       "    </tr>\n",
       "  </thead>\n",
       "  <tbody>\n",
       "    <tr>\n",
       "      <th>0</th>\n",
       "      <td>Huawei P50 Pro</td>\n",
       "      <td>$907</td>\n",
       "      <td>Jul 2021</td>\n",
       "      <td>144.0</td>\n",
       "      <td>106.0</td>\n",
       "      <td>NaN</td>\n",
       "      <td>93.0</td>\n",
       "      <td>NaN</td>\n",
       "    </tr>\n",
       "    <tr>\n",
       "      <th>1</th>\n",
       "      <td>Xiaomi Mi 11 Ultra</td>\n",
       "      <td>$1200</td>\n",
       "      <td>Mar 2021</td>\n",
       "      <td>143.0</td>\n",
       "      <td>94.0</td>\n",
       "      <td>71.0</td>\n",
       "      <td>87.0</td>\n",
       "      <td>69.0</td>\n",
       "    </tr>\n",
       "    <tr>\n",
       "      <th>2</th>\n",
       "      <td>Huawei Mate 40 Pro+</td>\n",
       "      <td>$1363</td>\n",
       "      <td>Oct 2020</td>\n",
       "      <td>139.0</td>\n",
       "      <td>NaN</td>\n",
       "      <td>NaN</td>\n",
       "      <td>NaN</td>\n",
       "      <td>NaN</td>\n",
       "    </tr>\n",
       "    <tr>\n",
       "      <th>3</th>\n",
       "      <td>Apple iPhone 13 Pro Max</td>\n",
       "      <td>$1099</td>\n",
       "      <td>Sep 2021</td>\n",
       "      <td>137.0</td>\n",
       "      <td>99.0</td>\n",
       "      <td>75.0</td>\n",
       "      <td>99.0</td>\n",
       "      <td>89.0</td>\n",
       "    </tr>\n",
       "    <tr>\n",
       "      <th>4</th>\n",
       "      <td>Apple iPhone 13 Pro</td>\n",
       "      <td>$999</td>\n",
       "      <td>Sep 2021</td>\n",
       "      <td>137.0</td>\n",
       "      <td>99.0</td>\n",
       "      <td>75.0</td>\n",
       "      <td>98.0</td>\n",
       "      <td>76.0</td>\n",
       "    </tr>\n",
       "  </tbody>\n",
       "</table>\n",
       "</div>"
      ],
      "text/plain": [
       "                     model  price    launch  camera  selfie  audio  display  \\\n",
       "0           Huawei P50 Pro   $907  Jul 2021   144.0   106.0    NaN     93.0   \n",
       "1       Xiaomi Mi 11 Ultra  $1200  Mar 2021   143.0    94.0   71.0     87.0   \n",
       "2      Huawei Mate 40 Pro+  $1363  Oct 2020   139.0     NaN    NaN      NaN   \n",
       "3  Apple iPhone 13 Pro Max  $1099  Sep 2021   137.0    99.0   75.0     99.0   \n",
       "4      Apple iPhone 13 Pro   $999  Sep 2021   137.0    99.0   75.0     98.0   \n",
       "\n",
       "   battery  \n",
       "0      NaN  \n",
       "1     69.0  \n",
       "2      NaN  \n",
       "3     89.0  \n",
       "4     76.0  "
      ]
     },
     "execution_count": 3,
     "metadata": {},
     "output_type": "execute_result"
    }
   ],
   "source": [
    "df = pd.read_csv('Rating Data.csv')\n",
    "df.head()"
   ]
  },
  {
   "cell_type": "code",
   "execution_count": 4,
   "metadata": {},
   "outputs": [
    {
     "data": {
      "text/html": [
       "<div>\n",
       "<style scoped>\n",
       "    .dataframe tbody tr th:only-of-type {\n",
       "        vertical-align: middle;\n",
       "    }\n",
       "\n",
       "    .dataframe tbody tr th {\n",
       "        vertical-align: top;\n",
       "    }\n",
       "\n",
       "    .dataframe thead th {\n",
       "        text-align: right;\n",
       "    }\n",
       "</style>\n",
       "<table border=\"1\" class=\"dataframe\">\n",
       "  <thead>\n",
       "    <tr style=\"text-align: right;\">\n",
       "      <th></th>\n",
       "      <th>camera</th>\n",
       "      <th>selfie</th>\n",
       "      <th>audio</th>\n",
       "      <th>display</th>\n",
       "      <th>battery</th>\n",
       "    </tr>\n",
       "  </thead>\n",
       "  <tbody>\n",
       "    <tr>\n",
       "      <th>count</th>\n",
       "      <td>184.000000</td>\n",
       "      <td>72.000000</td>\n",
       "      <td>93.000000</td>\n",
       "      <td>64.000000</td>\n",
       "      <td>54.000000</td>\n",
       "    </tr>\n",
       "    <tr>\n",
       "      <th>mean</th>\n",
       "      <td>106.445652</td>\n",
       "      <td>87.069444</td>\n",
       "      <td>65.451613</td>\n",
       "      <td>82.375000</td>\n",
       "      <td>74.351852</td>\n",
       "    </tr>\n",
       "    <tr>\n",
       "      <th>std</th>\n",
       "      <td>17.605801</td>\n",
       "      <td>14.862114</td>\n",
       "      <td>8.482099</td>\n",
       "      <td>10.173885</td>\n",
       "      <td>11.093356</td>\n",
       "    </tr>\n",
       "    <tr>\n",
       "      <th>min</th>\n",
       "      <td>56.000000</td>\n",
       "      <td>22.000000</td>\n",
       "      <td>41.000000</td>\n",
       "      <td>43.000000</td>\n",
       "      <td>49.000000</td>\n",
       "    </tr>\n",
       "    <tr>\n",
       "      <th>25%</th>\n",
       "      <td>94.000000</td>\n",
       "      <td>80.750000</td>\n",
       "      <td>60.000000</td>\n",
       "      <td>78.750000</td>\n",
       "      <td>66.250000</td>\n",
       "    </tr>\n",
       "    <tr>\n",
       "      <th>50%</th>\n",
       "      <td>108.000000</td>\n",
       "      <td>91.000000</td>\n",
       "      <td>66.000000</td>\n",
       "      <td>85.500000</td>\n",
       "      <td>74.500000</td>\n",
       "    </tr>\n",
       "    <tr>\n",
       "      <th>75%</th>\n",
       "      <td>119.000000</td>\n",
       "      <td>98.000000</td>\n",
       "      <td>71.000000</td>\n",
       "      <td>89.000000</td>\n",
       "      <td>84.750000</td>\n",
       "    </tr>\n",
       "    <tr>\n",
       "      <th>max</th>\n",
       "      <td>144.000000</td>\n",
       "      <td>106.000000</td>\n",
       "      <td>81.000000</td>\n",
       "      <td>99.000000</td>\n",
       "      <td>96.000000</td>\n",
       "    </tr>\n",
       "  </tbody>\n",
       "</table>\n",
       "</div>"
      ],
      "text/plain": [
       "           camera      selfie      audio    display    battery\n",
       "count  184.000000   72.000000  93.000000  64.000000  54.000000\n",
       "mean   106.445652   87.069444  65.451613  82.375000  74.351852\n",
       "std     17.605801   14.862114   8.482099  10.173885  11.093356\n",
       "min     56.000000   22.000000  41.000000  43.000000  49.000000\n",
       "25%     94.000000   80.750000  60.000000  78.750000  66.250000\n",
       "50%    108.000000   91.000000  66.000000  85.500000  74.500000\n",
       "75%    119.000000   98.000000  71.000000  89.000000  84.750000\n",
       "max    144.000000  106.000000  81.000000  99.000000  96.000000"
      ]
     },
     "execution_count": 4,
     "metadata": {},
     "output_type": "execute_result"
    }
   ],
   "source": [
    "df.describe()"
   ]
  },
  {
   "cell_type": "markdown",
   "metadata": {},
   "source": [
    "# Data Cleaning"
   ]
  },
  {
   "cell_type": "code",
   "execution_count": 5,
   "metadata": {},
   "outputs": [
    {
     "data": {
      "text/plain": [
       "model        0\n",
       "price        0\n",
       "launch       0\n",
       "camera      39\n",
       "selfie     151\n",
       "audio      130\n",
       "display    159\n",
       "battery    169\n",
       "dtype: int64"
      ]
     },
     "execution_count": 5,
     "metadata": {},
     "output_type": "execute_result"
    }
   ],
   "source": [
    "df.isnull().sum()"
   ]
  },
  {
   "cell_type": "code",
   "execution_count": 6,
   "metadata": {},
   "outputs": [
    {
     "data": {
      "text/html": [
       "<div>\n",
       "<style scoped>\n",
       "    .dataframe tbody tr th:only-of-type {\n",
       "        vertical-align: middle;\n",
       "    }\n",
       "\n",
       "    .dataframe tbody tr th {\n",
       "        vertical-align: top;\n",
       "    }\n",
       "\n",
       "    .dataframe thead th {\n",
       "        text-align: right;\n",
       "    }\n",
       "</style>\n",
       "<table border=\"1\" class=\"dataframe\">\n",
       "  <thead>\n",
       "    <tr style=\"text-align: right;\">\n",
       "      <th></th>\n",
       "      <th>model</th>\n",
       "      <th>price</th>\n",
       "      <th>launch</th>\n",
       "      <th>camera</th>\n",
       "      <th>selfie</th>\n",
       "      <th>audio</th>\n",
       "      <th>display</th>\n",
       "      <th>battery</th>\n",
       "    </tr>\n",
       "  </thead>\n",
       "  <tbody>\n",
       "    <tr>\n",
       "      <th>0</th>\n",
       "      <td>Huawei P50 Pro</td>\n",
       "      <td>$907</td>\n",
       "      <td>Jul 2021</td>\n",
       "      <td>144.0</td>\n",
       "      <td>106.0</td>\n",
       "      <td>0.0</td>\n",
       "      <td>93.0</td>\n",
       "      <td>0.0</td>\n",
       "    </tr>\n",
       "    <tr>\n",
       "      <th>1</th>\n",
       "      <td>Xiaomi Mi 11 Ultra</td>\n",
       "      <td>$1200</td>\n",
       "      <td>Mar 2021</td>\n",
       "      <td>143.0</td>\n",
       "      <td>94.0</td>\n",
       "      <td>71.0</td>\n",
       "      <td>87.0</td>\n",
       "      <td>69.0</td>\n",
       "    </tr>\n",
       "    <tr>\n",
       "      <th>2</th>\n",
       "      <td>Huawei Mate 40 Pro+</td>\n",
       "      <td>$1363</td>\n",
       "      <td>Oct 2020</td>\n",
       "      <td>139.0</td>\n",
       "      <td>0.0</td>\n",
       "      <td>0.0</td>\n",
       "      <td>0.0</td>\n",
       "      <td>0.0</td>\n",
       "    </tr>\n",
       "    <tr>\n",
       "      <th>3</th>\n",
       "      <td>Apple iPhone 13 Pro Max</td>\n",
       "      <td>$1099</td>\n",
       "      <td>Sep 2021</td>\n",
       "      <td>137.0</td>\n",
       "      <td>99.0</td>\n",
       "      <td>75.0</td>\n",
       "      <td>99.0</td>\n",
       "      <td>89.0</td>\n",
       "    </tr>\n",
       "    <tr>\n",
       "      <th>4</th>\n",
       "      <td>Apple iPhone 13 Pro</td>\n",
       "      <td>$999</td>\n",
       "      <td>Sep 2021</td>\n",
       "      <td>137.0</td>\n",
       "      <td>99.0</td>\n",
       "      <td>75.0</td>\n",
       "      <td>98.0</td>\n",
       "      <td>76.0</td>\n",
       "    </tr>\n",
       "  </tbody>\n",
       "</table>\n",
       "</div>"
      ],
      "text/plain": [
       "                     model  price    launch  camera  selfie  audio  display  \\\n",
       "0           Huawei P50 Pro   $907  Jul 2021   144.0   106.0    0.0     93.0   \n",
       "1       Xiaomi Mi 11 Ultra  $1200  Mar 2021   143.0    94.0   71.0     87.0   \n",
       "2      Huawei Mate 40 Pro+  $1363  Oct 2020   139.0     0.0    0.0      0.0   \n",
       "3  Apple iPhone 13 Pro Max  $1099  Sep 2021   137.0    99.0   75.0     99.0   \n",
       "4      Apple iPhone 13 Pro   $999  Sep 2021   137.0    99.0   75.0     98.0   \n",
       "\n",
       "   battery  \n",
       "0      0.0  \n",
       "1     69.0  \n",
       "2      0.0  \n",
       "3     89.0  \n",
       "4     76.0  "
      ]
     },
     "execution_count": 6,
     "metadata": {},
     "output_type": "execute_result"
    }
   ],
   "source": [
    "df.fillna(0,inplace = True)\n",
    "df.head()"
   ]
  },
  {
   "cell_type": "code",
   "execution_count": 7,
   "metadata": {},
   "outputs": [
    {
     "data": {
      "text/plain": [
       "model      0\n",
       "price      0\n",
       "launch     0\n",
       "camera     0\n",
       "selfie     0\n",
       "audio      0\n",
       "display    0\n",
       "battery    0\n",
       "dtype: int64"
      ]
     },
     "execution_count": 7,
     "metadata": {},
     "output_type": "execute_result"
    }
   ],
   "source": [
    "df.isnull().sum()"
   ]
  },
  {
   "cell_type": "markdown",
   "metadata": {},
   "source": [
    "# Overview of data types of each columns in the dataframe"
   ]
  },
  {
   "cell_type": "code",
   "execution_count": 8,
   "metadata": {},
   "outputs": [
    {
     "data": {
      "text/plain": [
       "model       object\n",
       "price       object\n",
       "launch      object\n",
       "camera     float64\n",
       "selfie     float64\n",
       "audio      float64\n",
       "display    float64\n",
       "battery    float64\n",
       "dtype: object"
      ]
     },
     "execution_count": 8,
     "metadata": {},
     "output_type": "execute_result"
    }
   ],
   "source": [
    "df.dtypes"
   ]
  },
  {
   "cell_type": "markdown",
   "metadata": {},
   "source": [
    "### Show specific data types in dataframe"
   ]
  },
  {
   "cell_type": "code",
   "execution_count": 9,
   "metadata": {},
   "outputs": [
    {
     "data": {
      "text/html": [
       "<div>\n",
       "<style scoped>\n",
       "    .dataframe tbody tr th:only-of-type {\n",
       "        vertical-align: middle;\n",
       "    }\n",
       "\n",
       "    .dataframe tbody tr th {\n",
       "        vertical-align: top;\n",
       "    }\n",
       "\n",
       "    .dataframe thead th {\n",
       "        text-align: right;\n",
       "    }\n",
       "</style>\n",
       "<table border=\"1\" class=\"dataframe\">\n",
       "  <thead>\n",
       "    <tr style=\"text-align: right;\">\n",
       "      <th></th>\n",
       "      <th>camera</th>\n",
       "      <th>selfie</th>\n",
       "      <th>audio</th>\n",
       "      <th>display</th>\n",
       "      <th>battery</th>\n",
       "    </tr>\n",
       "  </thead>\n",
       "  <tbody>\n",
       "    <tr>\n",
       "      <th>0</th>\n",
       "      <td>144.0</td>\n",
       "      <td>106.0</td>\n",
       "      <td>0.0</td>\n",
       "      <td>93.0</td>\n",
       "      <td>0.0</td>\n",
       "    </tr>\n",
       "    <tr>\n",
       "      <th>1</th>\n",
       "      <td>143.0</td>\n",
       "      <td>94.0</td>\n",
       "      <td>71.0</td>\n",
       "      <td>87.0</td>\n",
       "      <td>69.0</td>\n",
       "    </tr>\n",
       "    <tr>\n",
       "      <th>2</th>\n",
       "      <td>139.0</td>\n",
       "      <td>0.0</td>\n",
       "      <td>0.0</td>\n",
       "      <td>0.0</td>\n",
       "      <td>0.0</td>\n",
       "    </tr>\n",
       "    <tr>\n",
       "      <th>3</th>\n",
       "      <td>137.0</td>\n",
       "      <td>99.0</td>\n",
       "      <td>75.0</td>\n",
       "      <td>99.0</td>\n",
       "      <td>89.0</td>\n",
       "    </tr>\n",
       "    <tr>\n",
       "      <th>4</th>\n",
       "      <td>137.0</td>\n",
       "      <td>99.0</td>\n",
       "      <td>75.0</td>\n",
       "      <td>98.0</td>\n",
       "      <td>76.0</td>\n",
       "    </tr>\n",
       "    <tr>\n",
       "      <th>...</th>\n",
       "      <td>...</td>\n",
       "      <td>...</td>\n",
       "      <td>...</td>\n",
       "      <td>...</td>\n",
       "      <td>...</td>\n",
       "    </tr>\n",
       "    <tr>\n",
       "      <th>218</th>\n",
       "      <td>0.0</td>\n",
       "      <td>0.0</td>\n",
       "      <td>0.0</td>\n",
       "      <td>0.0</td>\n",
       "      <td>73.0</td>\n",
       "    </tr>\n",
       "    <tr>\n",
       "      <th>219</th>\n",
       "      <td>0.0</td>\n",
       "      <td>0.0</td>\n",
       "      <td>0.0</td>\n",
       "      <td>0.0</td>\n",
       "      <td>70.0</td>\n",
       "    </tr>\n",
       "    <tr>\n",
       "      <th>220</th>\n",
       "      <td>0.0</td>\n",
       "      <td>0.0</td>\n",
       "      <td>0.0</td>\n",
       "      <td>0.0</td>\n",
       "      <td>70.0</td>\n",
       "    </tr>\n",
       "    <tr>\n",
       "      <th>221</th>\n",
       "      <td>0.0</td>\n",
       "      <td>0.0</td>\n",
       "      <td>0.0</td>\n",
       "      <td>0.0</td>\n",
       "      <td>61.0</td>\n",
       "    </tr>\n",
       "    <tr>\n",
       "      <th>222</th>\n",
       "      <td>0.0</td>\n",
       "      <td>0.0</td>\n",
       "      <td>0.0</td>\n",
       "      <td>0.0</td>\n",
       "      <td>54.0</td>\n",
       "    </tr>\n",
       "  </tbody>\n",
       "</table>\n",
       "<p>223 rows × 5 columns</p>\n",
       "</div>"
      ],
      "text/plain": [
       "     camera  selfie  audio  display  battery\n",
       "0     144.0   106.0    0.0     93.0      0.0\n",
       "1     143.0    94.0   71.0     87.0     69.0\n",
       "2     139.0     0.0    0.0      0.0      0.0\n",
       "3     137.0    99.0   75.0     99.0     89.0\n",
       "4     137.0    99.0   75.0     98.0     76.0\n",
       "..      ...     ...    ...      ...      ...\n",
       "218     0.0     0.0    0.0      0.0     73.0\n",
       "219     0.0     0.0    0.0      0.0     70.0\n",
       "220     0.0     0.0    0.0      0.0     70.0\n",
       "221     0.0     0.0    0.0      0.0     61.0\n",
       "222     0.0     0.0    0.0      0.0     54.0\n",
       "\n",
       "[223 rows x 5 columns]"
      ]
     },
     "execution_count": 9,
     "metadata": {},
     "output_type": "execute_result"
    }
   ],
   "source": [
    "df.select_dtypes(include=['number'])"
   ]
  },
  {
   "cell_type": "code",
   "execution_count": 10,
   "metadata": {},
   "outputs": [
    {
     "data": {
      "text/html": [
       "<div>\n",
       "<style scoped>\n",
       "    .dataframe tbody tr th:only-of-type {\n",
       "        vertical-align: middle;\n",
       "    }\n",
       "\n",
       "    .dataframe tbody tr th {\n",
       "        vertical-align: top;\n",
       "    }\n",
       "\n",
       "    .dataframe thead th {\n",
       "        text-align: right;\n",
       "    }\n",
       "</style>\n",
       "<table border=\"1\" class=\"dataframe\">\n",
       "  <thead>\n",
       "    <tr style=\"text-align: right;\">\n",
       "      <th></th>\n",
       "      <th>model</th>\n",
       "      <th>price</th>\n",
       "      <th>launch</th>\n",
       "    </tr>\n",
       "  </thead>\n",
       "  <tbody>\n",
       "    <tr>\n",
       "      <th>0</th>\n",
       "      <td>Huawei P50 Pro</td>\n",
       "      <td>$907</td>\n",
       "      <td>Jul 2021</td>\n",
       "    </tr>\n",
       "    <tr>\n",
       "      <th>1</th>\n",
       "      <td>Xiaomi Mi 11 Ultra</td>\n",
       "      <td>$1200</td>\n",
       "      <td>Mar 2021</td>\n",
       "    </tr>\n",
       "    <tr>\n",
       "      <th>2</th>\n",
       "      <td>Huawei Mate 40 Pro+</td>\n",
       "      <td>$1363</td>\n",
       "      <td>Oct 2020</td>\n",
       "    </tr>\n",
       "    <tr>\n",
       "      <th>3</th>\n",
       "      <td>Apple iPhone 13 Pro Max</td>\n",
       "      <td>$1099</td>\n",
       "      <td>Sep 2021</td>\n",
       "    </tr>\n",
       "    <tr>\n",
       "      <th>4</th>\n",
       "      <td>Apple iPhone 13 Pro</td>\n",
       "      <td>$999</td>\n",
       "      <td>Sep 2021</td>\n",
       "    </tr>\n",
       "    <tr>\n",
       "      <th>...</th>\n",
       "      <td>...</td>\n",
       "      <td>...</td>\n",
       "      <td>...</td>\n",
       "    </tr>\n",
       "    <tr>\n",
       "      <th>218</th>\n",
       "      <td>Huawei P40 Lite</td>\n",
       "      <td>$279</td>\n",
       "      <td>Feb 2020</td>\n",
       "    </tr>\n",
       "    <tr>\n",
       "      <th>219</th>\n",
       "      <td>Wiko Power U20</td>\n",
       "      <td>$159</td>\n",
       "      <td>Jan 2021</td>\n",
       "    </tr>\n",
       "    <tr>\n",
       "      <th>220</th>\n",
       "      <td>Motorola Moto G9 Power</td>\n",
       "      <td>$229</td>\n",
       "      <td>Nov 2020</td>\n",
       "    </tr>\n",
       "    <tr>\n",
       "      <th>221</th>\n",
       "      <td>Realme C11</td>\n",
       "      <td>$119</td>\n",
       "      <td>Jun 2020</td>\n",
       "    </tr>\n",
       "    <tr>\n",
       "      <th>222</th>\n",
       "      <td>Xiaomi Redmi 9</td>\n",
       "      <td>$159</td>\n",
       "      <td>Jun 2020</td>\n",
       "    </tr>\n",
       "  </tbody>\n",
       "</table>\n",
       "<p>223 rows × 3 columns</p>\n",
       "</div>"
      ],
      "text/plain": [
       "                       model  price    launch\n",
       "0             Huawei P50 Pro   $907  Jul 2021\n",
       "1         Xiaomi Mi 11 Ultra  $1200  Mar 2021\n",
       "2        Huawei Mate 40 Pro+  $1363  Oct 2020\n",
       "3    Apple iPhone 13 Pro Max  $1099  Sep 2021\n",
       "4        Apple iPhone 13 Pro   $999  Sep 2021\n",
       "..                       ...    ...       ...\n",
       "218          Huawei P40 Lite   $279  Feb 2020\n",
       "219           Wiko Power U20   $159  Jan 2021\n",
       "220   Motorola Moto G9 Power   $229  Nov 2020\n",
       "221               Realme C11   $119  Jun 2020\n",
       "222           Xiaomi Redmi 9   $159  Jun 2020\n",
       "\n",
       "[223 rows x 3 columns]"
      ]
     },
     "execution_count": 10,
     "metadata": {},
     "output_type": "execute_result"
    }
   ],
   "source": [
    "df.select_dtypes(include=['object'])"
   ]
  },
  {
   "cell_type": "markdown",
   "metadata": {
    "tags": []
   },
   "source": [
    "## object price column to integer Price $ column"
   ]
  },
  {
   "cell_type": "markdown",
   "metadata": {},
   "source": [
    "df[\"price\"] = df.price.str.replace(\"$\",\"\").astype(\"int64\")\n",
    "\n",
    "#We can use this method easily but many times there may be commas,$ and other string litrals may be written and we'll have to repeat steps while recognizing the diffenrent string literals present in the different columns. It'll take too much time and it'll be better if we make a function to automate"
   ]
  },
  {
   "cell_type": "code",
   "execution_count": 11,
   "metadata": {},
   "outputs": [
    {
     "data": {
      "text/html": [
       "<div>\n",
       "<style scoped>\n",
       "    .dataframe tbody tr th:only-of-type {\n",
       "        vertical-align: middle;\n",
       "    }\n",
       "\n",
       "    .dataframe tbody tr th {\n",
       "        vertical-align: top;\n",
       "    }\n",
       "\n",
       "    .dataframe thead th {\n",
       "        text-align: right;\n",
       "    }\n",
       "</style>\n",
       "<table border=\"1\" class=\"dataframe\">\n",
       "  <thead>\n",
       "    <tr style=\"text-align: right;\">\n",
       "      <th></th>\n",
       "      <th>model</th>\n",
       "      <th>price</th>\n",
       "      <th>launch</th>\n",
       "      <th>camera</th>\n",
       "      <th>selfie</th>\n",
       "      <th>audio</th>\n",
       "      <th>display</th>\n",
       "      <th>battery</th>\n",
       "      <th>Price $</th>\n",
       "    </tr>\n",
       "  </thead>\n",
       "  <tbody>\n",
       "    <tr>\n",
       "      <th>0</th>\n",
       "      <td>Huawei P50 Pro</td>\n",
       "      <td>$907</td>\n",
       "      <td>Jul 2021</td>\n",
       "      <td>144.0</td>\n",
       "      <td>106.0</td>\n",
       "      <td>0.0</td>\n",
       "      <td>93.0</td>\n",
       "      <td>0.0</td>\n",
       "      <td>907</td>\n",
       "    </tr>\n",
       "    <tr>\n",
       "      <th>1</th>\n",
       "      <td>Xiaomi Mi 11 Ultra</td>\n",
       "      <td>$1200</td>\n",
       "      <td>Mar 2021</td>\n",
       "      <td>143.0</td>\n",
       "      <td>94.0</td>\n",
       "      <td>71.0</td>\n",
       "      <td>87.0</td>\n",
       "      <td>69.0</td>\n",
       "      <td>1200</td>\n",
       "    </tr>\n",
       "    <tr>\n",
       "      <th>2</th>\n",
       "      <td>Huawei Mate 40 Pro+</td>\n",
       "      <td>$1363</td>\n",
       "      <td>Oct 2020</td>\n",
       "      <td>139.0</td>\n",
       "      <td>0.0</td>\n",
       "      <td>0.0</td>\n",
       "      <td>0.0</td>\n",
       "      <td>0.0</td>\n",
       "      <td>1363</td>\n",
       "    </tr>\n",
       "    <tr>\n",
       "      <th>3</th>\n",
       "      <td>Apple iPhone 13 Pro Max</td>\n",
       "      <td>$1099</td>\n",
       "      <td>Sep 2021</td>\n",
       "      <td>137.0</td>\n",
       "      <td>99.0</td>\n",
       "      <td>75.0</td>\n",
       "      <td>99.0</td>\n",
       "      <td>89.0</td>\n",
       "      <td>1099</td>\n",
       "    </tr>\n",
       "    <tr>\n",
       "      <th>4</th>\n",
       "      <td>Apple iPhone 13 Pro</td>\n",
       "      <td>$999</td>\n",
       "      <td>Sep 2021</td>\n",
       "      <td>137.0</td>\n",
       "      <td>99.0</td>\n",
       "      <td>75.0</td>\n",
       "      <td>98.0</td>\n",
       "      <td>76.0</td>\n",
       "      <td>999</td>\n",
       "    </tr>\n",
       "    <tr>\n",
       "      <th>...</th>\n",
       "      <td>...</td>\n",
       "      <td>...</td>\n",
       "      <td>...</td>\n",
       "      <td>...</td>\n",
       "      <td>...</td>\n",
       "      <td>...</td>\n",
       "      <td>...</td>\n",
       "      <td>...</td>\n",
       "      <td>...</td>\n",
       "    </tr>\n",
       "    <tr>\n",
       "      <th>218</th>\n",
       "      <td>Huawei P40 Lite</td>\n",
       "      <td>$279</td>\n",
       "      <td>Feb 2020</td>\n",
       "      <td>0.0</td>\n",
       "      <td>0.0</td>\n",
       "      <td>0.0</td>\n",
       "      <td>0.0</td>\n",
       "      <td>73.0</td>\n",
       "      <td>279</td>\n",
       "    </tr>\n",
       "    <tr>\n",
       "      <th>219</th>\n",
       "      <td>Wiko Power U20</td>\n",
       "      <td>$159</td>\n",
       "      <td>Jan 2021</td>\n",
       "      <td>0.0</td>\n",
       "      <td>0.0</td>\n",
       "      <td>0.0</td>\n",
       "      <td>0.0</td>\n",
       "      <td>70.0</td>\n",
       "      <td>159</td>\n",
       "    </tr>\n",
       "    <tr>\n",
       "      <th>220</th>\n",
       "      <td>Motorola Moto G9 Power</td>\n",
       "      <td>$229</td>\n",
       "      <td>Nov 2020</td>\n",
       "      <td>0.0</td>\n",
       "      <td>0.0</td>\n",
       "      <td>0.0</td>\n",
       "      <td>0.0</td>\n",
       "      <td>70.0</td>\n",
       "      <td>229</td>\n",
       "    </tr>\n",
       "    <tr>\n",
       "      <th>221</th>\n",
       "      <td>Realme C11</td>\n",
       "      <td>$119</td>\n",
       "      <td>Jun 2020</td>\n",
       "      <td>0.0</td>\n",
       "      <td>0.0</td>\n",
       "      <td>0.0</td>\n",
       "      <td>0.0</td>\n",
       "      <td>61.0</td>\n",
       "      <td>119</td>\n",
       "    </tr>\n",
       "    <tr>\n",
       "      <th>222</th>\n",
       "      <td>Xiaomi Redmi 9</td>\n",
       "      <td>$159</td>\n",
       "      <td>Jun 2020</td>\n",
       "      <td>0.0</td>\n",
       "      <td>0.0</td>\n",
       "      <td>0.0</td>\n",
       "      <td>0.0</td>\n",
       "      <td>54.0</td>\n",
       "      <td>159</td>\n",
       "    </tr>\n",
       "  </tbody>\n",
       "</table>\n",
       "<p>223 rows × 9 columns</p>\n",
       "</div>"
      ],
      "text/plain": [
       "                       model  price    launch  camera  selfie  audio  display  \\\n",
       "0             Huawei P50 Pro   $907  Jul 2021   144.0   106.0    0.0     93.0   \n",
       "1         Xiaomi Mi 11 Ultra  $1200  Mar 2021   143.0    94.0   71.0     87.0   \n",
       "2        Huawei Mate 40 Pro+  $1363  Oct 2020   139.0     0.0    0.0      0.0   \n",
       "3    Apple iPhone 13 Pro Max  $1099  Sep 2021   137.0    99.0   75.0     99.0   \n",
       "4        Apple iPhone 13 Pro   $999  Sep 2021   137.0    99.0   75.0     98.0   \n",
       "..                       ...    ...       ...     ...     ...    ...      ...   \n",
       "218          Huawei P40 Lite   $279  Feb 2020     0.0     0.0    0.0      0.0   \n",
       "219           Wiko Power U20   $159  Jan 2021     0.0     0.0    0.0      0.0   \n",
       "220   Motorola Moto G9 Power   $229  Nov 2020     0.0     0.0    0.0      0.0   \n",
       "221               Realme C11   $119  Jun 2020     0.0     0.0    0.0      0.0   \n",
       "222           Xiaomi Redmi 9   $159  Jun 2020     0.0     0.0    0.0      0.0   \n",
       "\n",
       "     battery  Price $  \n",
       "0        0.0      907  \n",
       "1       69.0     1200  \n",
       "2        0.0     1363  \n",
       "3       89.0     1099  \n",
       "4       76.0      999  \n",
       "..       ...      ...  \n",
       "218     73.0      279  \n",
       "219     70.0      159  \n",
       "220     70.0      229  \n",
       "221     61.0      119  \n",
       "222     54.0      159  \n",
       "\n",
       "[223 rows x 9 columns]"
      ]
     },
     "execution_count": 11,
     "metadata": {},
     "output_type": "execute_result"
    }
   ],
   "source": [
    "def price_to_num(df):\n",
    "    price_list = list()\n",
    "    for num in df['price']:\n",
    "        price = int(num[1:])\n",
    "        price_list.append(price)\n",
    "    df['Price $'] = price_list\n",
    "    return df\n",
    "price_to_num(df)"
   ]
  },
  {
   "cell_type": "code",
   "execution_count": 12,
   "metadata": {},
   "outputs": [
    {
     "data": {
      "text/html": [
       "<div>\n",
       "<style scoped>\n",
       "    .dataframe tbody tr th:only-of-type {\n",
       "        vertical-align: middle;\n",
       "    }\n",
       "\n",
       "    .dataframe tbody tr th {\n",
       "        vertical-align: top;\n",
       "    }\n",
       "\n",
       "    .dataframe thead th {\n",
       "        text-align: right;\n",
       "    }\n",
       "</style>\n",
       "<table border=\"1\" class=\"dataframe\">\n",
       "  <thead>\n",
       "    <tr style=\"text-align: right;\">\n",
       "      <th></th>\n",
       "      <th>camera</th>\n",
       "      <th>selfie</th>\n",
       "      <th>audio</th>\n",
       "      <th>display</th>\n",
       "      <th>battery</th>\n",
       "      <th>Price $</th>\n",
       "    </tr>\n",
       "  </thead>\n",
       "  <tbody>\n",
       "    <tr>\n",
       "      <th>0</th>\n",
       "      <td>144.0</td>\n",
       "      <td>106.0</td>\n",
       "      <td>0.0</td>\n",
       "      <td>93.0</td>\n",
       "      <td>0.0</td>\n",
       "      <td>907</td>\n",
       "    </tr>\n",
       "    <tr>\n",
       "      <th>1</th>\n",
       "      <td>143.0</td>\n",
       "      <td>94.0</td>\n",
       "      <td>71.0</td>\n",
       "      <td>87.0</td>\n",
       "      <td>69.0</td>\n",
       "      <td>1200</td>\n",
       "    </tr>\n",
       "    <tr>\n",
       "      <th>2</th>\n",
       "      <td>139.0</td>\n",
       "      <td>0.0</td>\n",
       "      <td>0.0</td>\n",
       "      <td>0.0</td>\n",
       "      <td>0.0</td>\n",
       "      <td>1363</td>\n",
       "    </tr>\n",
       "    <tr>\n",
       "      <th>3</th>\n",
       "      <td>137.0</td>\n",
       "      <td>99.0</td>\n",
       "      <td>75.0</td>\n",
       "      <td>99.0</td>\n",
       "      <td>89.0</td>\n",
       "      <td>1099</td>\n",
       "    </tr>\n",
       "    <tr>\n",
       "      <th>4</th>\n",
       "      <td>137.0</td>\n",
       "      <td>99.0</td>\n",
       "      <td>75.0</td>\n",
       "      <td>98.0</td>\n",
       "      <td>76.0</td>\n",
       "      <td>999</td>\n",
       "    </tr>\n",
       "    <tr>\n",
       "      <th>...</th>\n",
       "      <td>...</td>\n",
       "      <td>...</td>\n",
       "      <td>...</td>\n",
       "      <td>...</td>\n",
       "      <td>...</td>\n",
       "      <td>...</td>\n",
       "    </tr>\n",
       "    <tr>\n",
       "      <th>218</th>\n",
       "      <td>0.0</td>\n",
       "      <td>0.0</td>\n",
       "      <td>0.0</td>\n",
       "      <td>0.0</td>\n",
       "      <td>73.0</td>\n",
       "      <td>279</td>\n",
       "    </tr>\n",
       "    <tr>\n",
       "      <th>219</th>\n",
       "      <td>0.0</td>\n",
       "      <td>0.0</td>\n",
       "      <td>0.0</td>\n",
       "      <td>0.0</td>\n",
       "      <td>70.0</td>\n",
       "      <td>159</td>\n",
       "    </tr>\n",
       "    <tr>\n",
       "      <th>220</th>\n",
       "      <td>0.0</td>\n",
       "      <td>0.0</td>\n",
       "      <td>0.0</td>\n",
       "      <td>0.0</td>\n",
       "      <td>70.0</td>\n",
       "      <td>229</td>\n",
       "    </tr>\n",
       "    <tr>\n",
       "      <th>221</th>\n",
       "      <td>0.0</td>\n",
       "      <td>0.0</td>\n",
       "      <td>0.0</td>\n",
       "      <td>0.0</td>\n",
       "      <td>61.0</td>\n",
       "      <td>119</td>\n",
       "    </tr>\n",
       "    <tr>\n",
       "      <th>222</th>\n",
       "      <td>0.0</td>\n",
       "      <td>0.0</td>\n",
       "      <td>0.0</td>\n",
       "      <td>0.0</td>\n",
       "      <td>54.0</td>\n",
       "      <td>159</td>\n",
       "    </tr>\n",
       "  </tbody>\n",
       "</table>\n",
       "<p>223 rows × 6 columns</p>\n",
       "</div>"
      ],
      "text/plain": [
       "     camera  selfie  audio  display  battery  Price $\n",
       "0     144.0   106.0    0.0     93.0      0.0      907\n",
       "1     143.0    94.0   71.0     87.0     69.0     1200\n",
       "2     139.0     0.0    0.0      0.0      0.0     1363\n",
       "3     137.0    99.0   75.0     99.0     89.0     1099\n",
       "4     137.0    99.0   75.0     98.0     76.0      999\n",
       "..      ...     ...    ...      ...      ...      ...\n",
       "218     0.0     0.0    0.0      0.0     73.0      279\n",
       "219     0.0     0.0    0.0      0.0     70.0      159\n",
       "220     0.0     0.0    0.0      0.0     70.0      229\n",
       "221     0.0     0.0    0.0      0.0     61.0      119\n",
       "222     0.0     0.0    0.0      0.0     54.0      159\n",
       "\n",
       "[223 rows x 6 columns]"
      ]
     },
     "execution_count": 12,
     "metadata": {},
     "output_type": "execute_result"
    }
   ],
   "source": [
    "df.select_dtypes(include=['number'])"
   ]
  },
  {
   "cell_type": "code",
   "execution_count": 13,
   "metadata": {},
   "outputs": [
    {
     "data": {
      "text/html": [
       "<div>\n",
       "<style scoped>\n",
       "    .dataframe tbody tr th:only-of-type {\n",
       "        vertical-align: middle;\n",
       "    }\n",
       "\n",
       "    .dataframe tbody tr th {\n",
       "        vertical-align: top;\n",
       "    }\n",
       "\n",
       "    .dataframe thead th {\n",
       "        text-align: right;\n",
       "    }\n",
       "</style>\n",
       "<table border=\"1\" class=\"dataframe\">\n",
       "  <thead>\n",
       "    <tr style=\"text-align: right;\">\n",
       "      <th></th>\n",
       "      <th>model</th>\n",
       "      <th>launch</th>\n",
       "      <th>camera</th>\n",
       "      <th>selfie</th>\n",
       "      <th>audio</th>\n",
       "      <th>display</th>\n",
       "      <th>battery</th>\n",
       "      <th>Price $</th>\n",
       "    </tr>\n",
       "  </thead>\n",
       "  <tbody>\n",
       "    <tr>\n",
       "      <th>0</th>\n",
       "      <td>Huawei P50 Pro</td>\n",
       "      <td>Jul 2021</td>\n",
       "      <td>144.0</td>\n",
       "      <td>106.0</td>\n",
       "      <td>0.0</td>\n",
       "      <td>93.0</td>\n",
       "      <td>0.0</td>\n",
       "      <td>907</td>\n",
       "    </tr>\n",
       "    <tr>\n",
       "      <th>1</th>\n",
       "      <td>Xiaomi Mi 11 Ultra</td>\n",
       "      <td>Mar 2021</td>\n",
       "      <td>143.0</td>\n",
       "      <td>94.0</td>\n",
       "      <td>71.0</td>\n",
       "      <td>87.0</td>\n",
       "      <td>69.0</td>\n",
       "      <td>1200</td>\n",
       "    </tr>\n",
       "    <tr>\n",
       "      <th>2</th>\n",
       "      <td>Huawei Mate 40 Pro+</td>\n",
       "      <td>Oct 2020</td>\n",
       "      <td>139.0</td>\n",
       "      <td>0.0</td>\n",
       "      <td>0.0</td>\n",
       "      <td>0.0</td>\n",
       "      <td>0.0</td>\n",
       "      <td>1363</td>\n",
       "    </tr>\n",
       "    <tr>\n",
       "      <th>3</th>\n",
       "      <td>Apple iPhone 13 Pro Max</td>\n",
       "      <td>Sep 2021</td>\n",
       "      <td>137.0</td>\n",
       "      <td>99.0</td>\n",
       "      <td>75.0</td>\n",
       "      <td>99.0</td>\n",
       "      <td>89.0</td>\n",
       "      <td>1099</td>\n",
       "    </tr>\n",
       "    <tr>\n",
       "      <th>4</th>\n",
       "      <td>Apple iPhone 13 Pro</td>\n",
       "      <td>Sep 2021</td>\n",
       "      <td>137.0</td>\n",
       "      <td>99.0</td>\n",
       "      <td>75.0</td>\n",
       "      <td>98.0</td>\n",
       "      <td>76.0</td>\n",
       "      <td>999</td>\n",
       "    </tr>\n",
       "  </tbody>\n",
       "</table>\n",
       "</div>"
      ],
      "text/plain": [
       "                     model    launch  camera  selfie  audio  display  battery  \\\n",
       "0           Huawei P50 Pro  Jul 2021   144.0   106.0    0.0     93.0      0.0   \n",
       "1       Xiaomi Mi 11 Ultra  Mar 2021   143.0    94.0   71.0     87.0     69.0   \n",
       "2      Huawei Mate 40 Pro+  Oct 2020   139.0     0.0    0.0      0.0      0.0   \n",
       "3  Apple iPhone 13 Pro Max  Sep 2021   137.0    99.0   75.0     99.0     89.0   \n",
       "4      Apple iPhone 13 Pro  Sep 2021   137.0    99.0   75.0     98.0     76.0   \n",
       "\n",
       "   Price $  \n",
       "0      907  \n",
       "1     1200  \n",
       "2     1363  \n",
       "3     1099  \n",
       "4      999  "
      ]
     },
     "execution_count": 13,
     "metadata": {},
     "output_type": "execute_result"
    }
   ],
   "source": [
    "df.drop(columns = ['price'],axis=1,inplace=True)\n",
    "df.head()"
   ]
  },
  {
   "cell_type": "markdown",
   "metadata": {},
   "source": [
    "# Distribution of Dataset "
   ]
  },
  {
   "cell_type": "code",
   "execution_count": 14,
   "metadata": {},
   "outputs": [
    {
     "name": "stderr",
     "output_type": "stream",
     "text": [
      "C:\\Users\\DELL\\anaconda3\\lib\\site-packages\\seaborn\\distributions.py:2619: FutureWarning: `distplot` is a deprecated function and will be removed in a future version. Please adapt your code to use either `displot` (a figure-level function with similar flexibility) or `histplot` (an axes-level function for histograms).\n",
      "  warnings.warn(msg, FutureWarning)\n"
     ]
    },
    {
     "data": {
      "image/png": "[encoded data removed]",
      "text/plain": [
       "<Figure size 720x360 with 1 Axes>"
      ]
     },
     "metadata": {
      "needs_background": "light"
     },
     "output_type": "display_data"
    }
   ],
   "source": [
    "#look at how the 'Price $' column is distributed:\n",
    "\n",
    "plt.figure(figsize=(10,5))\n",
    "plt.title('\\n Distribution of Price $ Column',size=12,color = 'black')\n",
    "plt.xlabel('Price $',fontsize=15,color = 'black')\n",
    "plt.ylabel('Density',fontsize=15,color = 'black')\n",
    "plt.xticks(fontsize=12)\n",
    "plt.yticks(fontsize=12)\n",
    "sns.distplot(df['Price $'],color = 'purple')\n",
    "plt.show()"
   ]
  },
  {
   "cell_type": "code",
   "execution_count": 15,
   "metadata": {},
   "outputs": [
    {
     "name": "stderr",
     "output_type": "stream",
     "text": [
      "C:\\Users\\DELL\\anaconda3\\lib\\site-packages\\seaborn\\distributions.py:2619: FutureWarning: `distplot` is a deprecated function and will be removed in a future version. Please adapt your code to use either `displot` (a figure-level function with similar flexibility) or `histplot` (an axes-level function for histograms).\n",
      "  warnings.warn(msg, FutureWarning)\n"
     ]
    },
    {
     "data": {
      "image/png": "[encoded data removed]",
      "text/plain": [
       "<Figure size 720x360 with 1 Axes>"
      ]
     },
     "metadata": {
      "needs_background": "light"
     },
     "output_type": "display_data"
    }
   ],
   "source": [
    "#look at how the 'Camera' column is distributed:\n",
    "\n",
    "plt.figure(figsize=(10,5))\n",
    "plt.title('\\n Distribution of Camera Column',size=12,color = 'black')\n",
    "plt.xlabel('Selfie',fontsize=15,color = 'black')\n",
    "plt.ylabel('Density',fontsize=15,color = 'black')\n",
    "plt.xticks(fontsize=12)\n",
    "plt.yticks(fontsize=12)\n",
    "sns.distplot(df['camera'],color = 'black')\n",
    "plt.show()"
   ]
  },
  {
   "cell_type": "code",
   "execution_count": 16,
   "metadata": {},
   "outputs": [],
   "source": [
    "#Replacing the value 0 values in 'camera' column with nan value\n",
    "\n",
    "df['camera'] = df['camera'].apply(lambda x: np.nan if x==0 else x)\n",
    "\n",
    "#Fill missing values with the mean of distribution.\n",
    "\n",
    "df['camera'] = df['camera'].fillna(df['camera'].mean())\n"
   ]
  },
  {
   "cell_type": "code",
   "execution_count": 17,
   "metadata": {},
   "outputs": [
    {
     "name": "stderr",
     "output_type": "stream",
     "text": [
      "C:\\Users\\DELL\\anaconda3\\lib\\site-packages\\seaborn\\distributions.py:2619: FutureWarning: `distplot` is a deprecated function and will be removed in a future version. Please adapt your code to use either `displot` (a figure-level function with similar flexibility) or `histplot` (an axes-level function for histograms).\n",
      "  warnings.warn(msg, FutureWarning)\n"
     ]
    },
    {
     "data": {
      "image/png": "[encoded data removed]",
      "text/plain": [
       "<Figure size 720x360 with 1 Axes>"
      ]
     },
     "metadata": {
      "needs_background": "light"
     },
     "output_type": "display_data"
    }
   ],
   "source": [
    "# Verifying that the replace function worked properly for the 'camera' column.\n",
    "\n",
    "plt.figure(figsize=(10,5))\n",
    "plt.title('\\n Distribution of Camera Column',size=12,color = 'black')\n",
    "plt.xlabel('Selfie',fontsize=15,color = 'black')\n",
    "plt.ylabel('Density',fontsize=15,color = 'black')\n",
    "plt.xticks(fontsize=12)\n",
    "plt.yticks(fontsize=12)\n",
    "sns.distplot(df['camera'],color = 'black')\n",
    "plt.show()"
   ]
  },
  {
   "cell_type": "code",
   "execution_count": 18,
   "metadata": {},
   "outputs": [
    {
     "name": "stderr",
     "output_type": "stream",
     "text": [
      "C:\\Users\\DELL\\anaconda3\\lib\\site-packages\\seaborn\\distributions.py:2619: FutureWarning: `distplot` is a deprecated function and will be removed in a future version. Please adapt your code to use either `displot` (a figure-level function with similar flexibility) or `histplot` (an axes-level function for histograms).\n",
      "  warnings.warn(msg, FutureWarning)\n"
     ]
    },
    {
     "data": {
      "image/png": "[encoded data removed]",
      "text/plain": [
       "<Figure size 720x360 with 1 Axes>"
      ]
     },
     "metadata": {
      "needs_background": "light"
     },
     "output_type": "display_data"
    }
   ],
   "source": [
    "#look at how the 'Selfie' column is distributed:\n",
    "\n",
    "plt.figure(figsize=(10,5))\n",
    "plt.title('\\n Distribution of Selfie Column (before handling 0 values)',size=12,color = 'black')\n",
    "plt.xlabel('Selfie',fontsize=15,color = 'black')\n",
    "plt.ylabel('Density',fontsize=15,color = 'black')\n",
    "plt.xticks(fontsize=12)\n",
    "plt.yticks(fontsize=12)\n",
    "sns.distplot(df['selfie'],color = 'blue')\n",
    "plt.show()"
   ]
  },
  {
   "cell_type": "code",
   "execution_count": 19,
   "metadata": {},
   "outputs": [],
   "source": [
    "df['selfie'] = df['selfie'].apply(lambda x:np.nan if x== 0 else x)\n",
    "\n",
    "df['selfie'] = df['selfie'].fillna(df['selfie'].mean())\n"
   ]
  },
  {
   "cell_type": "code",
   "execution_count": 20,
   "metadata": {},
   "outputs": [
    {
     "name": "stderr",
     "output_type": "stream",
     "text": [
      "C:\\Users\\DELL\\anaconda3\\lib\\site-packages\\seaborn\\distributions.py:2619: FutureWarning: `distplot` is a deprecated function and will be removed in a future version. Please adapt your code to use either `displot` (a figure-level function with similar flexibility) or `histplot` (an axes-level function for histograms).\n",
      "  warnings.warn(msg, FutureWarning)\n"
     ]
    },
    {
     "data": {
      "image/png": "[encoded data removed]",
      "text/plain": [
       "<Figure size 576x360 with 1 Axes>"
      ]
     },
     "metadata": {
      "needs_background": "light"
     },
     "output_type": "display_data"
    }
   ],
   "source": [
    "plt.figure(figsize=(8,5))\n",
    "plt.title('\\n Distribution of selfie Column (after handling 0 values)\\n', size=16, color='black')\n",
    "plt.xlabel('\\n selfie \\n', fontsize=13, color='black')\n",
    "plt.ylabel('\\n Density\\n', fontsize=13, color='black')\n",
    "plt.xticks(fontsize=13)\n",
    "plt.yticks(fontsize=12)\n",
    "sns.distplot(df[\"selfie\"],color=\"blue\")\n",
    "plt.show()"
   ]
  },
  {
   "cell_type": "code",
   "execution_count": 21,
   "metadata": {},
   "outputs": [
    {
     "name": "stderr",
     "output_type": "stream",
     "text": [
      "C:\\Users\\DELL\\anaconda3\\lib\\site-packages\\seaborn\\distributions.py:2619: FutureWarning: `distplot` is a deprecated function and will be removed in a future version. Please adapt your code to use either `displot` (a figure-level function with similar flexibility) or `histplot` (an axes-level function for histograms).\n",
      "  warnings.warn(msg, FutureWarning)\n"
     ]
    },
    {
     "data": {
      "image/png": "[encoded data removed]",
      "text/plain": [
       "<Figure size 720x360 with 1 Axes>"
      ]
     },
     "metadata": {
      "needs_background": "light"
     },
     "output_type": "display_data"
    }
   ],
   "source": [
    "#Lets look at how the 'audio' column is distributed:\n",
    "\n",
    "plt.figure(figsize=(10,5))\n",
    "plt.title('\\n Distribution of Audio Column (before handling 0 values)',size=12,color = 'black')\n",
    "plt.xlabel('Audio',fontsize=15,color = 'black')\n",
    "plt.ylabel('Density',fontsize=15,color = 'black')\n",
    "plt.xticks(fontsize=12)\n",
    "plt.yticks(fontsize=12)\n",
    "sns.distplot(df['audio'],color = 'brown')\n",
    "plt.show()"
   ]
  },
  {
   "cell_type": "code",
   "execution_count": 22,
   "metadata": {},
   "outputs": [],
   "source": [
    "df['audio'] = df['audio'].apply(lambda x:np.nan if x== 0 else x)\n",
    "\n",
    "df['audio'] = df['audio'].fillna(df['audio'].mean())\n"
   ]
  },
  {
   "cell_type": "code",
   "execution_count": 23,
   "metadata": {},
   "outputs": [
    {
     "name": "stderr",
     "output_type": "stream",
     "text": [
      "C:\\Users\\DELL\\anaconda3\\lib\\site-packages\\seaborn\\distributions.py:2619: FutureWarning: `distplot` is a deprecated function and will be removed in a future version. Please adapt your code to use either `displot` (a figure-level function with similar flexibility) or `histplot` (an axes-level function for histograms).\n",
      "  warnings.warn(msg, FutureWarning)\n"
     ]
    },
    {
     "data": {
      "image/png": "[encoded data removed]",
      "text/plain": [
       "<Figure size 576x360 with 1 Axes>"
      ]
     },
     "metadata": {
      "needs_background": "light"
     },
     "output_type": "display_data"
    }
   ],
   "source": [
    "plt.figure(figsize=(8,5))\n",
    "plt.title('\\n Distribution of Audio Column (after handling 0 values)\\n', size=16, color='black')\n",
    "plt.xlabel('\\n Audio \\n', fontsize=13, color='black')\n",
    "plt.ylabel('\\n Density\\n', fontsize=13, color='black')\n",
    "plt.xticks(fontsize=13)\n",
    "plt.yticks(fontsize=12)\n",
    "sns.distplot(df[\"audio\"],color=\"red\")\n",
    "plt.show()"
   ]
  },
  {
   "cell_type": "code",
   "execution_count": 24,
   "metadata": {},
   "outputs": [
    {
     "name": "stderr",
     "output_type": "stream",
     "text": [
      "C:\\Users\\DELL\\anaconda3\\lib\\site-packages\\seaborn\\distributions.py:2619: FutureWarning: `distplot` is a deprecated function and will be removed in a future version. Please adapt your code to use either `displot` (a figure-level function with similar flexibility) or `histplot` (an axes-level function for histograms).\n",
      "  warnings.warn(msg, FutureWarning)\n"
     ]
    },
    {
     "data": {
      "image/png": "[encoded data removed]",
      "text/plain": [
       "<Figure size 720x360 with 1 Axes>"
      ]
     },
     "metadata": {
      "needs_background": "light"
     },
     "output_type": "display_data"
    }
   ],
   "source": [
    "#look at how the 'battery' column is distributed:\n",
    "\n",
    "plt.figure(figsize=(10,5))\n",
    "plt.title('\\n Distribution of Battery Column (before handling 0 values)',size=12,color = 'black')\n",
    "plt.xlabel('Battery',fontsize=15,color = 'black')\n",
    "plt.ylabel('Density',fontsize=15,color = 'black')\n",
    "plt.xticks(fontsize=12)\n",
    "plt.yticks(fontsize=12)\n",
    "sns.distplot(df['battery'],color = 'brown')\n",
    "plt.show()"
   ]
  },
  {
   "cell_type": "code",
   "execution_count": 25,
   "metadata": {},
   "outputs": [],
   "source": [
    "df['battery'] = df['battery'].apply(lambda x:np.nan if x== 0 else x)\n",
    "\n",
    "df['battery'] = df['battery'].fillna(df['battery'].mean())\n"
   ]
  },
  {
   "cell_type": "code",
   "execution_count": 26,
   "metadata": {},
   "outputs": [
    {
     "name": "stderr",
     "output_type": "stream",
     "text": [
      "C:\\Users\\DELL\\anaconda3\\lib\\site-packages\\seaborn\\distributions.py:2619: FutureWarning: `distplot` is a deprecated function and will be removed in a future version. Please adapt your code to use either `displot` (a figure-level function with similar flexibility) or `histplot` (an axes-level function for histograms).\n",
      "  warnings.warn(msg, FutureWarning)\n"
     ]
    },
    {
     "data": {
      "image/png": "[encoded data removed]",
      "text/plain": [
       "<Figure size 576x360 with 1 Axes>"
      ]
     },
     "metadata": {
      "needs_background": "light"
     },
     "output_type": "display_data"
    }
   ],
   "source": [
    "plt.figure(figsize=(8,5))\n",
    "plt.title('\\n Distribution of Battery Column (after handling 0 values)\\n', size=16, color='black')\n",
    "plt.xlabel('\\n Battery \\n', fontsize=13, color='black')\n",
    "plt.ylabel('\\n Density\\n', fontsize=13, color='black')\n",
    "plt.xticks(fontsize=13)\n",
    "plt.yticks(fontsize=12)\n",
    "sns.distplot(df[\"battery\"],color=\"brown\")\n",
    "plt.show()"
   ]
  },
  {
   "cell_type": "markdown",
   "metadata": {},
   "source": [
    "# Questions"
   ]
  },
  {
   "cell_type": "code",
   "execution_count": 27,
   "metadata": {},
   "outputs": [
    {
     "data": {
      "text/html": [
       "<div>\n",
       "<style scoped>\n",
       "    .dataframe tbody tr th:only-of-type {\n",
       "        vertical-align: middle;\n",
       "    }\n",
       "\n",
       "    .dataframe tbody tr th {\n",
       "        vertical-align: top;\n",
       "    }\n",
       "\n",
       "    .dataframe thead th {\n",
       "        text-align: right;\n",
       "    }\n",
       "</style>\n",
       "<table border=\"1\" class=\"dataframe\">\n",
       "  <thead>\n",
       "    <tr style=\"text-align: right;\">\n",
       "      <th></th>\n",
       "      <th>model</th>\n",
       "      <th>launch</th>\n",
       "      <th>camera</th>\n",
       "      <th>selfie</th>\n",
       "      <th>audio</th>\n",
       "      <th>display</th>\n",
       "      <th>battery</th>\n",
       "      <th>Price $</th>\n",
       "    </tr>\n",
       "  </thead>\n",
       "  <tbody>\n",
       "    <tr>\n",
       "      <th>0</th>\n",
       "      <td>Huawei P50 Pro</td>\n",
       "      <td>Jul 2021</td>\n",
       "      <td>144.0</td>\n",
       "      <td>106.000000</td>\n",
       "      <td>65.451613</td>\n",
       "      <td>93.0</td>\n",
       "      <td>74.351852</td>\n",
       "      <td>907</td>\n",
       "    </tr>\n",
       "    <tr>\n",
       "      <th>1</th>\n",
       "      <td>Xiaomi Mi 11 Ultra</td>\n",
       "      <td>Mar 2021</td>\n",
       "      <td>143.0</td>\n",
       "      <td>94.000000</td>\n",
       "      <td>71.000000</td>\n",
       "      <td>87.0</td>\n",
       "      <td>69.000000</td>\n",
       "      <td>1200</td>\n",
       "    </tr>\n",
       "    <tr>\n",
       "      <th>2</th>\n",
       "      <td>Huawei Mate 40 Pro+</td>\n",
       "      <td>Oct 2020</td>\n",
       "      <td>139.0</td>\n",
       "      <td>87.069444</td>\n",
       "      <td>65.451613</td>\n",
       "      <td>0.0</td>\n",
       "      <td>74.351852</td>\n",
       "      <td>1363</td>\n",
       "    </tr>\n",
       "    <tr>\n",
       "      <th>3</th>\n",
       "      <td>Apple iPhone 13 Pro Max</td>\n",
       "      <td>Sep 2021</td>\n",
       "      <td>137.0</td>\n",
       "      <td>99.000000</td>\n",
       "      <td>75.000000</td>\n",
       "      <td>99.0</td>\n",
       "      <td>89.000000</td>\n",
       "      <td>1099</td>\n",
       "    </tr>\n",
       "    <tr>\n",
       "      <th>4</th>\n",
       "      <td>Apple iPhone 13 Pro</td>\n",
       "      <td>Sep 2021</td>\n",
       "      <td>137.0</td>\n",
       "      <td>99.000000</td>\n",
       "      <td>75.000000</td>\n",
       "      <td>98.0</td>\n",
       "      <td>76.000000</td>\n",
       "      <td>999</td>\n",
       "    </tr>\n",
       "  </tbody>\n",
       "</table>\n",
       "</div>"
      ],
      "text/plain": [
       "                     model    launch  camera      selfie      audio  display  \\\n",
       "0           Huawei P50 Pro  Jul 2021   144.0  106.000000  65.451613     93.0   \n",
       "1       Xiaomi Mi 11 Ultra  Mar 2021   143.0   94.000000  71.000000     87.0   \n",
       "2      Huawei Mate 40 Pro+  Oct 2020   139.0   87.069444  65.451613      0.0   \n",
       "3  Apple iPhone 13 Pro Max  Sep 2021   137.0   99.000000  75.000000     99.0   \n",
       "4      Apple iPhone 13 Pro  Sep 2021   137.0   99.000000  75.000000     98.0   \n",
       "\n",
       "     battery  Price $  \n",
       "0  74.351852      907  \n",
       "1  69.000000     1200  \n",
       "2  74.351852     1363  \n",
       "3  89.000000     1099  \n",
       "4  76.000000      999  "
      ]
     },
     "execution_count": 27,
     "metadata": {},
     "output_type": "execute_result"
    }
   ],
   "source": [
    "df.head()"
   ]
  },
  {
   "cell_type": "markdown",
   "metadata": {},
   "source": [
    "### Which is the most expensive phone? "
   ]
  },
  {
   "cell_type": "code",
   "execution_count": 28,
   "metadata": {},
   "outputs": [
    {
     "data": {
      "text/html": [
       "<div>\n",
       "<style scoped>\n",
       "    .dataframe tbody tr th:only-of-type {\n",
       "        vertical-align: middle;\n",
       "    }\n",
       "\n",
       "    .dataframe tbody tr th {\n",
       "        vertical-align: top;\n",
       "    }\n",
       "\n",
       "    .dataframe thead th {\n",
       "        text-align: right;\n",
       "    }\n",
       "</style>\n",
       "<table border=\"1\" class=\"dataframe\">\n",
       "  <thead>\n",
       "    <tr style=\"text-align: right;\">\n",
       "      <th></th>\n",
       "      <th>model</th>\n",
       "      <th>launch</th>\n",
       "      <th>camera</th>\n",
       "      <th>selfie</th>\n",
       "      <th>audio</th>\n",
       "      <th>display</th>\n",
       "      <th>battery</th>\n",
       "      <th>Price $</th>\n",
       "    </tr>\n",
       "  </thead>\n",
       "  <tbody>\n",
       "    <tr>\n",
       "      <th>90</th>\n",
       "      <td>Samsung Galaxy Z Fold2 5G</td>\n",
       "      <td>Aug 2020</td>\n",
       "      <td>109.0</td>\n",
       "      <td>87.069444</td>\n",
       "      <td>66.0</td>\n",
       "      <td>0.0</td>\n",
       "      <td>74.351852</td>\n",
       "      <td>1999</td>\n",
       "    </tr>\n",
       "  </tbody>\n",
       "</table>\n",
       "</div>"
      ],
      "text/plain": [
       "                        model    launch  camera     selfie  audio  display  \\\n",
       "90  Samsung Galaxy Z Fold2 5G  Aug 2020   109.0  87.069444   66.0      0.0   \n",
       "\n",
       "      battery  Price $  \n",
       "90  74.351852     1999  "
      ]
     },
     "execution_count": 28,
     "metadata": {},
     "output_type": "execute_result"
    }
   ],
   "source": [
    "df[df['Price $'] == df['Price $'].max()]"
   ]
  },
  {
   "cell_type": "markdown",
   "metadata": {},
   "source": [
    "### Which is the cheapest phone? "
   ]
  },
  {
   "cell_type": "code",
   "execution_count": 29,
   "metadata": {},
   "outputs": [
    {
     "data": {
      "text/html": [
       "<div>\n",
       "<style scoped>\n",
       "    .dataframe tbody tr th:only-of-type {\n",
       "        vertical-align: middle;\n",
       "    }\n",
       "\n",
       "    .dataframe tbody tr th {\n",
       "        vertical-align: top;\n",
       "    }\n",
       "\n",
       "    .dataframe thead th {\n",
       "        text-align: right;\n",
       "    }\n",
       "</style>\n",
       "<table border=\"1\" class=\"dataframe\">\n",
       "  <thead>\n",
       "    <tr style=\"text-align: right;\">\n",
       "      <th></th>\n",
       "      <th>model</th>\n",
       "      <th>launch</th>\n",
       "      <th>camera</th>\n",
       "      <th>selfie</th>\n",
       "      <th>audio</th>\n",
       "      <th>display</th>\n",
       "      <th>battery</th>\n",
       "      <th>Price $</th>\n",
       "    </tr>\n",
       "  </thead>\n",
       "  <tbody>\n",
       "    <tr>\n",
       "      <th>188</th>\n",
       "      <td>Intex Aqua Selfie</td>\n",
       "      <td>Jul 2017</td>\n",
       "      <td>106.445652</td>\n",
       "      <td>22.0</td>\n",
       "      <td>65.451613</td>\n",
       "      <td>0.0</td>\n",
       "      <td>74.351852</td>\n",
       "      <td>89</td>\n",
       "    </tr>\n",
       "  </tbody>\n",
       "</table>\n",
       "</div>"
      ],
      "text/plain": [
       "                 model    launch      camera  selfie      audio  display  \\\n",
       "188  Intex Aqua Selfie  Jul 2017  106.445652    22.0  65.451613      0.0   \n",
       "\n",
       "       battery  Price $  \n",
       "188  74.351852       89  "
      ]
     },
     "execution_count": 29,
     "metadata": {},
     "output_type": "execute_result"
    }
   ],
   "source": [
    "df[df['Price $'] == df['Price $'].min()]"
   ]
  },
  {
   "cell_type": "markdown",
   "metadata": {},
   "source": [
    "### Which phone has the highest camera score? "
   ]
  },
  {
   "cell_type": "code",
   "execution_count": 30,
   "metadata": {},
   "outputs": [
    {
     "data": {
      "text/html": [
       "<div>\n",
       "<style scoped>\n",
       "    .dataframe tbody tr th:only-of-type {\n",
       "        vertical-align: middle;\n",
       "    }\n",
       "\n",
       "    .dataframe tbody tr th {\n",
       "        vertical-align: top;\n",
       "    }\n",
       "\n",
       "    .dataframe thead th {\n",
       "        text-align: right;\n",
       "    }\n",
       "</style>\n",
       "<table border=\"1\" class=\"dataframe\">\n",
       "  <thead>\n",
       "    <tr style=\"text-align: right;\">\n",
       "      <th></th>\n",
       "      <th>model</th>\n",
       "      <th>launch</th>\n",
       "      <th>camera</th>\n",
       "      <th>selfie</th>\n",
       "      <th>audio</th>\n",
       "      <th>display</th>\n",
       "      <th>battery</th>\n",
       "      <th>Price $</th>\n",
       "    </tr>\n",
       "  </thead>\n",
       "  <tbody>\n",
       "    <tr>\n",
       "      <th>0</th>\n",
       "      <td>Huawei P50 Pro</td>\n",
       "      <td>Jul 2021</td>\n",
       "      <td>144.0</td>\n",
       "      <td>106.0</td>\n",
       "      <td>65.451613</td>\n",
       "      <td>93.0</td>\n",
       "      <td>74.351852</td>\n",
       "      <td>907</td>\n",
       "    </tr>\n",
       "  </tbody>\n",
       "</table>\n",
       "</div>"
      ],
      "text/plain": [
       "            model    launch  camera  selfie      audio  display    battery  \\\n",
       "0  Huawei P50 Pro  Jul 2021   144.0   106.0  65.451613     93.0  74.351852   \n",
       "\n",
       "   Price $  \n",
       "0      907  "
      ]
     },
     "execution_count": 30,
     "metadata": {},
     "output_type": "execute_result"
    }
   ],
   "source": [
    "df[df['camera'] == df['camera'].max()]"
   ]
  },
  {
   "cell_type": "markdown",
   "metadata": {},
   "source": [
    "### Which phone has the lowest camera score?"
   ]
  },
  {
   "cell_type": "code",
   "execution_count": 31,
   "metadata": {},
   "outputs": [
    {
     "data": {
      "text/html": [
       "<div>\n",
       "<style scoped>\n",
       "    .dataframe tbody tr th:only-of-type {\n",
       "        vertical-align: middle;\n",
       "    }\n",
       "\n",
       "    .dataframe tbody tr th {\n",
       "        vertical-align: top;\n",
       "    }\n",
       "\n",
       "    .dataframe thead th {\n",
       "        text-align: right;\n",
       "    }\n",
       "</style>\n",
       "<table border=\"1\" class=\"dataframe\">\n",
       "  <thead>\n",
       "    <tr style=\"text-align: right;\">\n",
       "      <th></th>\n",
       "      <th>model</th>\n",
       "      <th>launch</th>\n",
       "      <th>camera</th>\n",
       "      <th>selfie</th>\n",
       "      <th>audio</th>\n",
       "      <th>display</th>\n",
       "      <th>battery</th>\n",
       "      <th>Price $</th>\n",
       "    </tr>\n",
       "  </thead>\n",
       "  <tbody>\n",
       "    <tr>\n",
       "      <th>183</th>\n",
       "      <td>Altice S61</td>\n",
       "      <td>Jun 2018</td>\n",
       "      <td>56.0</td>\n",
       "      <td>87.069444</td>\n",
       "      <td>65.451613</td>\n",
       "      <td>0.0</td>\n",
       "      <td>74.351852</td>\n",
       "      <td>159</td>\n",
       "    </tr>\n",
       "  </tbody>\n",
       "</table>\n",
       "</div>"
      ],
      "text/plain": [
       "          model    launch  camera     selfie      audio  display    battery  \\\n",
       "183  Altice S61  Jun 2018    56.0  87.069444  65.451613      0.0  74.351852   \n",
       "\n",
       "     Price $  \n",
       "183      159  "
      ]
     },
     "execution_count": 31,
     "metadata": {},
     "output_type": "execute_result"
    }
   ],
   "source": [
    "df[df['camera'] == df['camera'].min()]"
   ]
  },
  {
   "cell_type": "markdown",
   "metadata": {},
   "source": [
    "### Which phone has the highest selfie score?"
   ]
  },
  {
   "cell_type": "code",
   "execution_count": 32,
   "metadata": {},
   "outputs": [
    {
     "data": {
      "text/html": [
       "<div>\n",
       "<style scoped>\n",
       "    .dataframe tbody tr th:only-of-type {\n",
       "        vertical-align: middle;\n",
       "    }\n",
       "\n",
       "    .dataframe tbody tr th {\n",
       "        vertical-align: top;\n",
       "    }\n",
       "\n",
       "    .dataframe thead th {\n",
       "        text-align: right;\n",
       "    }\n",
       "</style>\n",
       "<table border=\"1\" class=\"dataframe\">\n",
       "  <thead>\n",
       "    <tr style=\"text-align: right;\">\n",
       "      <th></th>\n",
       "      <th>model</th>\n",
       "      <th>launch</th>\n",
       "      <th>camera</th>\n",
       "      <th>selfie</th>\n",
       "      <th>audio</th>\n",
       "      <th>display</th>\n",
       "      <th>battery</th>\n",
       "      <th>Price $</th>\n",
       "    </tr>\n",
       "  </thead>\n",
       "  <tbody>\n",
       "    <tr>\n",
       "      <th>0</th>\n",
       "      <td>Huawei P50 Pro</td>\n",
       "      <td>Jul 2021</td>\n",
       "      <td>144.0</td>\n",
       "      <td>106.0</td>\n",
       "      <td>65.451613</td>\n",
       "      <td>93.0</td>\n",
       "      <td>74.351852</td>\n",
       "      <td>907</td>\n",
       "    </tr>\n",
       "  </tbody>\n",
       "</table>\n",
       "</div>"
      ],
      "text/plain": [
       "            model    launch  camera  selfie      audio  display    battery  \\\n",
       "0  Huawei P50 Pro  Jul 2021   144.0   106.0  65.451613     93.0  74.351852   \n",
       "\n",
       "   Price $  \n",
       "0      907  "
      ]
     },
     "execution_count": 32,
     "metadata": {},
     "output_type": "execute_result"
    }
   ],
   "source": [
    "df[df['selfie'] == df['selfie'].max()]"
   ]
  },
  {
   "cell_type": "markdown",
   "metadata": {},
   "source": [
    "### Which phone has the lowest selfie score?"
   ]
  },
  {
   "cell_type": "code",
   "execution_count": 33,
   "metadata": {},
   "outputs": [
    {
     "data": {
      "text/html": [
       "<div>\n",
       "<style scoped>\n",
       "    .dataframe tbody tr th:only-of-type {\n",
       "        vertical-align: middle;\n",
       "    }\n",
       "\n",
       "    .dataframe tbody tr th {\n",
       "        vertical-align: top;\n",
       "    }\n",
       "\n",
       "    .dataframe thead th {\n",
       "        text-align: right;\n",
       "    }\n",
       "</style>\n",
       "<table border=\"1\" class=\"dataframe\">\n",
       "  <thead>\n",
       "    <tr style=\"text-align: right;\">\n",
       "      <th></th>\n",
       "      <th>model</th>\n",
       "      <th>launch</th>\n",
       "      <th>camera</th>\n",
       "      <th>selfie</th>\n",
       "      <th>audio</th>\n",
       "      <th>display</th>\n",
       "      <th>battery</th>\n",
       "      <th>Price $</th>\n",
       "    </tr>\n",
       "  </thead>\n",
       "  <tbody>\n",
       "    <tr>\n",
       "      <th>188</th>\n",
       "      <td>Intex Aqua Selfie</td>\n",
       "      <td>Jul 2017</td>\n",
       "      <td>106.445652</td>\n",
       "      <td>22.0</td>\n",
       "      <td>65.451613</td>\n",
       "      <td>0.0</td>\n",
       "      <td>74.351852</td>\n",
       "      <td>89</td>\n",
       "    </tr>\n",
       "  </tbody>\n",
       "</table>\n",
       "</div>"
      ],
      "text/plain": [
       "                 model    launch      camera  selfie      audio  display  \\\n",
       "188  Intex Aqua Selfie  Jul 2017  106.445652    22.0  65.451613      0.0   \n",
       "\n",
       "       battery  Price $  \n",
       "188  74.351852       89  "
      ]
     },
     "execution_count": 33,
     "metadata": {},
     "output_type": "execute_result"
    }
   ],
   "source": [
    "df[df['selfie'] == df['selfie'].min()]"
   ]
  },
  {
   "cell_type": "markdown",
   "metadata": {},
   "source": [
    "## the same can be done for other columns. "
   ]
  },
  {
   "cell_type": "markdown",
   "metadata": {},
   "source": [
    "# Distribution of brands "
   ]
  },
  {
   "cell_type": "code",
   "execution_count": 34,
   "metadata": {},
   "outputs": [],
   "source": [
    "def count_brand(data):\n",
    "    if \"apple \" in data.lower():\n",
    "        return \"Apple\"\n",
    "    elif 'xiaomi ' in data.lower():\n",
    "        return 'Xiaomi '\n",
    "    elif 'huawei ' in data.lower():\n",
    "        return 'Huawei '\n",
    "    elif 'samsung ' in data.lower():\n",
    "        return 'Samsung'\n",
    "    elif 'oppo ' in data.lower():\n",
    "        return 'Oppo'\n",
    "    elif 'htc ' in data.lower():\n",
    "        return 'HTC'\n",
    "    elif 'lg ' in data.lower():\n",
    "        return 'LG'\n",
    "    else:\n",
    "        return 'Others'\n"
   ]
  },
  {
   "cell_type": "code",
   "execution_count": 35,
   "metadata": {},
   "outputs": [],
   "source": [
    "df['Brand_Count'] = df['model'].apply(count_brand)"
   ]
  },
  {
   "cell_type": "code",
   "execution_count": 36,
   "metadata": {},
   "outputs": [
    {
     "data": {
      "text/plain": [
       "Others     102\n",
       "Samsung     38\n",
       "Xiaomi      27\n",
       "Apple       18\n",
       "Oppo        17\n",
       "Huawei      13\n",
       "LG           6\n",
       "HTC          2\n",
       "Name: Brand_Count, dtype: int64"
      ]
     },
     "execution_count": 36,
     "metadata": {},
     "output_type": "execute_result"
    }
   ],
   "source": [
    "df.Brand_Count.value_counts()"
   ]
  },
  {
   "cell_type": "markdown",
   "metadata": {},
   "source": [
    "## Pie Chart"
   ]
  },
  {
   "cell_type": "code",
   "execution_count": 37,
   "metadata": {},
   "outputs": [
    {
     "data": {
      "text/plain": [
       "<AxesSubplot:ylabel='None'>"
      ]
     },
     "execution_count": 37,
     "metadata": {},
     "output_type": "execute_result"
    },
    {
     "data": {
      "image/png": "[encoded data removed]",
      "text/plain": [
       "<Figure size 576x576 with 1 Axes>"
      ]
     },
     "metadata": {},
     "output_type": "display_data"
    }
   ],
   "source": [
    "group = df.groupby(['Brand_Count']).size()\n",
    "group.plot.pie(figsize=(8,8))"
   ]
  },
  {
   "cell_type": "code",
   "execution_count": null,
   "metadata": {},
   "outputs": [],
   "source": []
  }
 ],
 "metadata": {
  "kernelspec": {
   "display_name": "Python 3 (ipykernel)",
   "language": "python",
   "name": "python3"
  },
  "language_info": {
   "codemirror_mode": {
    "name": "ipython",
    "version": 3
   },
   "file_extension": ".py",
   "mimetype": "text/x-python",
   "name": "python",
   "nbconvert_exporter": "python",
   "pygments_lexer": "ipython3",
   "version": "3.9.12"
  }
 },
 "nbformat": 4,
 "nbformat_minor": 4
}
